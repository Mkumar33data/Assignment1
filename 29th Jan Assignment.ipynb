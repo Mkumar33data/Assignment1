{
 "cells": [
  {
   "cell_type": "code",
   "execution_count": null,
   "id": "193a0da9-0116-49f6-817b-0a70d5a9a3c9",
   "metadata": {},
   "outputs": [],
   "source": [
    "                                                29th Jan Assignment"
   ]
  },
  {
   "cell_type": "code",
   "execution_count": null,
   "id": "bfd70e21-2565-4919-99e4-a4704ffac195",
   "metadata": {},
   "outputs": [],
   "source": [
    "Q1. Who developed python programming language ?\n",
    "\n",
    "    Ans- Guido Van Rossum."
   ]
  },
  {
   "cell_type": "code",
   "execution_count": null,
   "id": "28bf409a-3038-41da-be58-104087f36ecb",
   "metadata": {},
   "outputs": [],
   "source": [
    "Q2. Which type of programming does python support ?\n",
    "\n",
    "    Ans- Python is a multi paradigm programming language. Object oriented programming and structured programming are fully supported and many of their \n",
    "         features support functional programming and aspect oriented programming , including metaprogramming and metaobjects."
   ]
  },
  {
   "cell_type": "code",
   "execution_count": null,
   "id": "b3604b8d-e4f6-44c4-a0ad-9825d042a8dc",
   "metadata": {},
   "outputs": [],
   "source": [
    "Q3. Is python case sensitive when dealing with identifiers ?\n",
    "    \n",
    "    Ans- Yes , python is case sensitive lanuage."
   ]
  },
  {
   "cell_type": "code",
   "execution_count": null,
   "id": "3a183d2b-d8a4-4285-bbf7-17c6c93acee5",
   "metadata": {},
   "outputs": [],
   "source": [
    "Q4. What is the correct extension of the python file ?\n",
    "    \n",
    "    Ans- .py, .pyi ,.pye ."
   ]
  },
  {
   "cell_type": "code",
   "execution_count": null,
   "id": "f2b0f815-57a0-449f-8a61-c9153c2c8bfa",
   "metadata": {},
   "outputs": [],
   "source": [
    "Q5. Is python compiled or interpreted ?\n",
    "    \n",
    "    Ans- Python is interpreted lanuage."
   ]
  },
  {
   "cell_type": "code",
   "execution_count": 4,
   "id": "d6059213-bfc9-4e10-8106-34182e4f2980",
   "metadata": {},
   "outputs": [],
   "source": [
    "# Q6. Name a few blocks of code used to defined in python language ?\n",
    "    #   Ans- \n",
    "l =['manoj', 'kumar', 'data science','sudhanshu sir']\n"
   ]
  },
  {
   "cell_type": "code",
   "execution_count": 5,
   "id": "57c17567-8a7c-430e-a35a-b3e619a2cdc9",
   "metadata": {},
   "outputs": [
    {
     "data": {
      "text/plain": [
       "['manoj', 'kumar', 'data science', 'sudhanshu sir']"
      ]
     },
     "execution_count": 5,
     "metadata": {},
     "output_type": "execute_result"
    }
   ],
   "source": [
    "l"
   ]
  },
  {
   "cell_type": "code",
   "execution_count": 7,
   "id": "9c538c0b-19d4-4b11-92cb-d298c261f813",
   "metadata": {},
   "outputs": [
    {
     "name": "stdout",
     "output_type": "stream",
     "text": [
      "manoj\n",
      "kumar\n",
      "data science\n",
      "sudhanshu sir\n"
     ]
    }
   ],
   "source": [
    "l1 =[]\n",
    "for i in l:\n",
    "    print(i)\n",
    "    l1.append(i.upper())"
   ]
  },
  {
   "cell_type": "code",
   "execution_count": 8,
   "id": "e2380a35-4048-4f2e-8b0c-a7405fabc873",
   "metadata": {},
   "outputs": [
    {
     "data": {
      "text/plain": [
       "['MANOJ', 'KUMAR', 'DATA SCIENCE', 'SUDHANSHU SIR']"
      ]
     },
     "execution_count": 8,
     "metadata": {},
     "output_type": "execute_result"
    }
   ],
   "source": [
    "l1"
   ]
  },
  {
   "cell_type": "code",
   "execution_count": null,
   "id": "e45dca68-1a85-42d3-87d2-30756d6fe6ab",
   "metadata": {},
   "outputs": [],
   "source": [
    "Q.7 state a charactrer used to give a single line comments in python ?\n",
    "    \n",
    "    Ans- # is used  to give a single line comment in python."
   ]
  },
  {
   "cell_type": "code",
   "execution_count": null,
   "id": "bf668fda-c7d7-48b1-abb1-648127eff9a1",
   "metadata": {},
   "outputs": [],
   "source": [
    "Q8. Mention functions which can help us to find the version of python that we currently working on ?\n",
    "    \n",
    "    Ans-Sys.version . "
   ]
  },
  {
   "cell_type": "code",
   "execution_count": null,
   "id": "967d2b52-b478-48f4-9790-ad034f750048",
   "metadata": {},
   "outputs": [],
   "source": [
    "Q9. Python support the creation of anonymous function at runtime using a cunstruct called......?\n",
    "\n",
    "    Ans- Lambda ."
   ]
  },
  {
   "cell_type": "code",
   "execution_count": null,
   "id": "05cebd6f-62ab-407e-bef6-799103ae6809",
   "metadata": {},
   "outputs": [],
   "source": [
    "Q10. What does pip stand for python ?\n",
    "\n",
    "    ans- PIP stand for Preferred Installer Program."
   ]
  },
  {
   "cell_type": "code",
   "execution_count": null,
   "id": "684f1517-510f-467f-8313-3096428a8f2c",
   "metadata": {},
   "outputs": [],
   "source": [
    "Q11. Mention a few built in functions in python ?\n",
    "\n",
    "    Ans- print() ,type(), input(), pop(), Append() function etc."
   ]
  },
  {
   "cell_type": "code",
   "execution_count": null,
   "id": "b91d1691-4443-4382-8ff9-df7c7cf5636a",
   "metadata": {},
   "outputs": [],
   "source": [
    "Q12. what is the maximum possible length of an idetifier in python ?\n",
    "\n",
    "    Ans- An idetifier can have a maximum length of 79 characters in python."
   ]
  },
  {
   "cell_type": "code",
   "execution_count": null,
   "id": "2a051c8d-8f9f-4c62-a41f-b938a4af81b3",
   "metadata": {},
   "outputs": [],
   "source": [
    "Q13. what are benefits of using python ?\n",
    "\n",
    "    Ans- There are  many benefits of python . It is a general purpose skill used in almost all fields\n",
    "        including - \n",
    "        -Data science.\n",
    "        -web development.\n",
    "        -system automation and administration.\n",
    "        -Computer graphics.\n",
    "        - Simple , easy to learn syntax ,capable of scripting.\n",
    "        -Completely open source ,support third party package."
   ]
  },
  {
   "cell_type": "code",
   "execution_count": null,
   "id": "d6d45312-f100-4256-b464-f55c6808425e",
   "metadata": {},
   "outputs": [],
   "source": [
    "Q14. How is memory managed in python?\n",
    "     \n",
    "     Ans- Memery management in python involve a private heap containing all python objects and data structures.\n",
    "         The management of this private heap is ensured internally by the python memory manager. The python memory manager has different \n",
    "         components which deal with various dynamic stroge management aspects like sharing segmentation or caching."
   ]
  },
  {
   "cell_type": "code",
   "execution_count": null,
   "id": "4975d42f-7440-46e3-9e82-a8f18114f4ef",
   "metadata": {},
   "outputs": [],
   "source": [
    "Q15. How to install python on windows and set path variables ?\n",
    "     \n",
    "     Ans- Right clicking This pc and going to properties.\n",
    "        -Clicking on the advanced system setting in the menu on the left.\n",
    "        -clicking on the environment variables button on the bottom right.\n",
    "        -In the system variables section selecting the path variable and clicking on edit. The next screen will show all \n",
    "        -the directories that are currently a part of the path variable.\n",
    "        -clicking on new and entering python's install directory."
   ]
  },
  {
   "cell_type": "code",
   "execution_count": null,
   "id": "5da05401-8443-4211-ab36-065cf9f3f691",
   "metadata": {},
   "outputs": [],
   "source": [
    "Q16. Is indentation required in python ?\n",
    "     \n",
    "    Ans- The indentation in python is very important."
   ]
  }
 ],
 "metadata": {
  "kernelspec": {
   "display_name": "Python 3 (ipykernel)",
   "language": "python",
   "name": "python3"
  },
  "language_info": {
   "codemirror_mode": {
    "name": "ipython",
    "version": 3
   },
   "file_extension": ".py",
   "mimetype": "text/x-python",
   "name": "python",
   "nbconvert_exporter": "python",
   "pygments_lexer": "ipython3",
   "version": "3.10.8"
  }
 },
 "nbformat": 4,
 "nbformat_minor": 5
}
